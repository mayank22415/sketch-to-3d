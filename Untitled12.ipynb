{
  "nbformat": 4,
  "nbformat_minor": 0,
  "metadata": {
    "colab": {
      "private_outputs": true,
      "provenance": [],
      "gpuType": "T4",
      "authorship_tag": "ABX9TyMMdIWACqIvj+1PWPDs8QDj",
      "include_colab_link": true
    },
    "kernelspec": {
      "name": "python3",
      "display_name": "Python 3"
    },
    "language_info": {
      "name": "python"
    },
    "accelerator": "GPU"
  },
  "cells": [
    {
      "cell_type": "markdown",
      "metadata": {
        "id": "view-in-github",
        "colab_type": "text"
      },
      "source": [
        "<a href=\"https://colab.research.google.com/github/mayank22415/sketch-to-3d/blob/main/Untitled12.ipynb\" target=\"_parent\"><img src=\"https://colab.research.google.com/assets/colab-badge.svg\" alt=\"Open In Colab\"/></a>"
      ]
    },
    {
      "cell_type": "code",
      "source": [
        "\n",
        "!pip install -q timm opencv-python matplotlib torch torchvision\n",
        "from google.colab import files\n",
        "from PIL import Image\n",
        "import numpy as np\n",
        "import matplotlib.pyplot as plt\n",
        "import cv2\n",
        "import torch\n",
        "import timm\n",
        "import torchvision.transforms as T\n",
        "\n",
        "uploaded = files.upload()\n",
        "img_path = list(uploaded.keys())[0]\n",
        "\n",
        "img = Image.open(img_path).convert(\"RGB\")\n",
        "img_rgb = np.array(img)\n",
        "\n",
        "transform = T.Compose([\n",
        "    T.Resize((384, 384)),\n",
        "    T.ToTensor(),\n",
        "    T.Normalize(mean=[0.5, 0.5, 0.5], std=[0.5, 0.5, 0.5]),\n",
        "])\n",
        "\n",
        "input_tensor = transform(img).unsqueeze(0)\n",
        "\n",
        "model_type = \"DPT_Large\"\n",
        "midas = torch.hub.load(\"intel-isl/MiDaS\", model_type)\n",
        "midas.eval()\n",
        "device = torch.device(\"cuda\" if torch.cuda.is_available() else \"cpu\")\n",
        "midas.to(device)\n",
        "input_tensor = input_tensor.to(device)\n",
        "\n",
        "with torch.no_grad():\n",
        "    prediction = midas(input_tensor)[0]\n",
        "depth_map = prediction.cpu().numpy()\n",
        "depth_map = cv2.resize(depth_map, (img_rgb.shape[1], img_rgb.shape[0]))\n",
        "depth_map = (depth_map - depth_map.min()) / (depth_map.max() - depth_map.min())\n",
        "\n",
        "h, w = depth_map.shape\n",
        "x, y = np.meshgrid(np.linspace(0, w - 1, w), np.linspace(0, h - 1, h))\n",
        "z = np.exp(depth_map) * 20\n",
        "\n",
        "\n",
        "gray = cv2.cvtColor(img_rgb, cv2.COLOR_RGB2GRAY)\n",
        "edges = cv2.Canny(gray, 50, 150)\n",
        "edges_mask = cv2.dilate(edges, None, iterations=3)\n",
        "\n",
        "intensity_mask = (gray > 20) & (gray < 240)\n",
        "depth_mask = (depth_map > 0.1)\n",
        "combined_mask = (edges_mask > 0) | (intensity_mask & depth_mask)\n",
        "\n",
        "stride = 2\n",
        "points = np.stack((x, y, z), axis=-1)[::stride, ::stride]\n",
        "colors = img_rgb[::stride, ::stride] / 255.0\n",
        "mask = combined_mask[::stride, ::stride]\n",
        "\n",
        "points = points[mask]\n",
        "colors = colors[mask]\n",
        "\n",
        "fig = plt.figure(figsize=(10, 10))\n",
        "ax = plt.axes(projection='3d')\n",
        "ax.view_init(elev=80, azim=-90)\n",
        "ax.axis(\"off\")\n",
        "ax.scatter(points[:, 0], points[:, 1], points[:, 2], s=0.7, c=colors)\n",
        "plt.title(\"Clean Scattered 3D Point Cloud\", fontsize=14)\n",
        "plt.show()\n"
      ],
      "metadata": {
        "id": "ItIhiv8iQoUa"
      },
      "execution_count": null,
      "outputs": []
    },
    {
      "cell_type": "code",
      "source": [
        "figsize = plt.rcParams.get('figure.figsize')\n",
        "fig = plt.figure(figsize=(figsize[0] * 2, figsize[1]))\n",
        "ax1 = fig.add_subplot(1, 2, 1, projection = '3d')\n",
        "ax2 = fig.add_subplot(1, 2, 2, projection = '3d')\n",
        "ax1.axis(\"off\")\n",
        "ax1.view_init(90, -90) # front view\n",
        "ax1.scatter(points[:,0], points[:,1], points[:,2], s=1, c=colors)\n",
        "ax2.axis(\"off\")\n",
        "ax2.view_init(90 + 90, -90) # top view\n",
        "ax2.scatter(points[:,0], points[:,1], points[:,2], s=1, c=colors)\n",
        "plt.show()"
      ],
      "metadata": {
        "id": "nGEskWC7SYpY"
      },
      "execution_count": null,
      "outputs": []
    },
    {
      "cell_type": "code",
      "source": [
        "stride = 2\n",
        "points = np.stack((x, y, z), axis=-1)[::stride, ::stride]\n",
        "colors = img_rgb[::stride, ::stride] / 255.0\n",
        "mask = combined_mask[::stride, ::stride]\n",
        "print(\"Shape of points before masking:\", points.shape)\n",
        "print(\"Shape of colors before masking:\", colors.shape)\n",
        "print(\"Shape of mask before masking:\", mask.shape)\n",
        "\n",
        "points = points[mask]\n",
        "colors = colors[mask]\n",
        "\n",
        "print(\"Shape of points after masking:\", points.shape)\n",
        "print(\"Shape of colors after masking:\", colors.shape)"
      ],
      "metadata": {
        "id": "57gbbusLQ2L4"
      },
      "execution_count": null,
      "outputs": []
    },
    {
      "cell_type": "code",
      "source": [
        "import matplotlib.pyplot as plt\n",
        "from mpl_toolkits.mplot3d import Axes3D\n",
        "import numpy as np\n",
        "figsize = plt.rcParams.get('figure.figsize')\n",
        "fig = plt.figure(figsize=(figsize[0] * 3, figsize[1]))\n",
        "\n",
        "ax1 = fig.add_subplot(1, 3, 1, projection='3d')\n",
        "ax1.axis(\"off\")\n",
        "ax1.set_title(\"Front View\")\n",
        "ax1.view_init(elev=90, azim=-90)\n",
        "ax1.scatter(points[:, 0], points[:, 1], points[:, 2], s=1, c=colors)\n",
        "\n",
        "ax2 = fig.add_subplot(1, 3, 2, projection='3d')\n",
        "ax2.axis(\"off\")\n",
        "ax2.set_title(\"Top View\")\n",
        "ax2.view_init(elev=180, azim=-90)\n",
        "ax2.scatter(points[:, 0], points[:, 1], points[:, 2], s=1, c=colors)\n",
        "\n",
        "ax3 = fig.add_subplot(1, 3, 3, projection='3d')\n",
        "ax3.axis(\"off\")\n",
        "ax3.set_title(\"Side View\")\n",
        "ax3.view_init(elev=0, azim=-90)\n",
        "ax3.scatter(points[:, 0], points[:, 1], points[:, 2], s=1, c=colors)\n",
        "\n",
        "plt.tight_layout()\n",
        "plt.show()\n"
      ],
      "metadata": {
        "id": "SNK7AQsLQgc3"
      },
      "execution_count": null,
      "outputs": []
    },
    {
      "cell_type": "code",
      "source": [],
      "metadata": {
        "id": "WlW5heJMcDIx"
      },
      "execution_count": null,
      "outputs": []
    },
    {
      "cell_type": "code",
      "metadata": {
        "id": "Esm494vvQWIN"
      },
      "source": [
        "import plotly.graph_objects as go"
      ],
      "execution_count": null,
      "outputs": []
    },
    {
      "cell_type": "code",
      "source": [
        "fig = go.Figure(data=[go.Scatter3d(\n",
        "    x=points[:, 0], y=points[:, 1], z=points[:, 2],\n",
        "    mode='markers',\n",
        "    marker=dict(size=1.5, color=['rgb({},{},{})'.format(int(r*255), int(g*255), int(b*255)) for r,g,b in colors])\n",
        ")])\n",
        "fig.update_layout(scene=dict(\n",
        "    xaxis=dict(visible=False),\n",
        "    yaxis=dict(visible=False),\n",
        "    zaxis=dict(visible=False)\n",
        "), margin=dict(l=0, r=0, b=0, t=0))\n",
        "\n",
        "fig.show()"
      ],
      "metadata": {
        "id": "G_An6R6kSnPO"
      },
      "execution_count": null,
      "outputs": []
    },
    {
      "cell_type": "code",
      "source": [],
      "metadata": {
        "id": "zGOd98vRCwVu"
      },
      "execution_count": null,
      "outputs": []
    }
  ]
}